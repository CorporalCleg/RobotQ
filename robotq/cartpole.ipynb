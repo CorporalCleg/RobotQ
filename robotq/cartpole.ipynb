{
 "cells": [
  {
   "cell_type": "code",
   "execution_count": 1,
   "metadata": {},
   "outputs": [],
   "source": [
    "import random\n",
    "\n",
    "import imageio\n",
    "import numpy as np\n",
    "import matplotlib.pyplot as plt\n",
    "import gymnasium as gym\n",
    "from tqdm.notebook import tqdm\n",
    "\n",
    "from implementation import SoftmaxPolicy, Qlearning, DoubleQlearning"
   ]
  },
  {
   "cell_type": "code",
   "execution_count": 2,
   "metadata": {},
   "outputs": [],
   "source": [
    "# Initialise the environment\n",
    "env = gym.make(\"FrozenLake-v1\", map_name=\"4x4\", is_slippery=True, render_mode=\"rgb_array\")\n",
    "\n",
    "# Reset the environment to generate the first observation\n",
    "observation, info = env.reset(seed=42)\n",
    "for _ in range(100):\n",
    "    # this is where you would insert your policy\n",
    "    action = env.action_space.sample()\n",
    "\n",
    "    # step (transition) through the environment with the action\n",
    "    # receiving the next observation, reward and if the episode has terminated or truncated\n",
    "    observation, reward, terminated, truncated, info = env.step(action)\n",
    "    env.render()\n",
    "\n",
    "    # If the episode has ended then we can reset to start a new episode\n",
    "    if terminated or truncated:\n",
    "        observation, info = env.reset()\n",
    "\n",
    "env.close()"
   ]
  },
  {
   "cell_type": "markdown",
   "metadata": {},
   "source": [
    "# Making Q-learning method"
   ]
  },
  {
   "cell_type": "markdown",
   "metadata": {},
   "source": [
    "### init Q-table"
   ]
  },
  {
   "cell_type": "code",
   "execution_count": 3,
   "metadata": {},
   "outputs": [
    {
     "name": "stdout",
     "output_type": "stream",
     "text": [
      "There are  16  possible states\n",
      "There are  4  possible actions\n"
     ]
    }
   ],
   "source": [
    "state_space = env.observation_space.n\n",
    "print(\"There are \", state_space, \" possible states\")\n",
    "\n",
    "action_space = env.action_space.n\n",
    "print(\"There are \", action_space, \" possible actions\")\n",
    "\n",
    "def initialize_q_table(state_space, action_space):\n",
    "  Qtable = np.zeros((state_space, action_space))\n",
    "  return Qtable"
   ]
  },
  {
   "cell_type": "markdown",
   "metadata": {},
   "source": [
    "### Create policies"
   ]
  },
  {
   "cell_type": "code",
   "execution_count": 4,
   "metadata": {},
   "outputs": [],
   "source": [
    "# class Policy:\n",
    "#     def __call__(Qtable, state):\n",
    "#         pass\n",
    "\n",
    "#     def update():\n",
    "#         None"
   ]
  },
  {
   "cell_type": "markdown",
   "metadata": {},
   "source": [
    "<h5> Greedy policy"
   ]
  },
  {
   "cell_type": "code",
   "execution_count": 5,
   "metadata": {},
   "outputs": [],
   "source": [
    "# class GreedyPolicy(Policy):\n",
    "#     def __init__(self):\n",
    "#         super().__init__()\n",
    "    \n",
    "#     def __call__(self, Qtable, state):\n",
    "#         return np.argmax(Qtable[state][:])"
   ]
  },
  {
   "cell_type": "markdown",
   "metadata": {},
   "source": [
    "<h5> Esilon greedy policy"
   ]
  },
  {
   "cell_type": "code",
   "execution_count": 6,
   "metadata": {},
   "outputs": [],
   "source": [
    "# class EpsilonGreedyPolicy(Policy):\n",
    "#     def __init__(self):\n",
    "#         super().__init__()\n",
    "#         self.greedy = GreedyPolicy()\n",
    "    \n",
    "#     def __call__(self, Qtable, state):\n",
    "#         random_num = np.random.binomial(1, 0.2)\n",
    "#         # if random_num > greater than epsilon --> exploitation\n",
    "#         if random_num:\n",
    "#             # Take the action with the highest value given a state\n",
    "#             # np.argmax can be useful here\n",
    "#             action = self.greedy(Qtable, state)\n",
    "#             # else --> exploration\n",
    "#         else:\n",
    "#             action = env.action_space.sample()\n",
    "#         return action"
   ]
  },
  {
   "cell_type": "markdown",
   "metadata": {},
   "source": [
    "<h5> Softmax policy"
   ]
  },
  {
   "cell_type": "code",
   "execution_count": 7,
   "metadata": {},
   "outputs": [],
   "source": [
    "# def softmax(seq):\n",
    "#   a = np.exp(seq)\n",
    "#   return a / (1e-10 + a.sum())\n",
    "\n",
    "# class SoftmaxPolicy(Policy):\n",
    "#     def __init__(self):\n",
    "#         super().__init__()\n",
    "\n",
    "#     def __call__(self, Qtable, state): # take action with prob. of it's value\n",
    "#         return np.random.choice([0, 1, 2, 3], p=softmax(Qtable[state][:]))\n",
    "        "
   ]
  },
  {
   "cell_type": "markdown",
   "metadata": {},
   "source": [
    "### Q-learning algorithm"
   ]
  },
  {
   "cell_type": "code",
   "execution_count": 8,
   "metadata": {},
   "outputs": [],
   "source": [
    "# class Qlearning:\n",
    "#     def __init__(self, env, train_policy):\n",
    "#         self.env = env\n",
    "#         self.nS = env.observation_space.n\n",
    "#         self.nA = env.action_space.n\n",
    "#         self.Qtable = initialize_q_table(self.nS, self.nA)\n",
    "#         self.train_policy = train_policy\n",
    "\n",
    "#     def train(self, n_training_episodes=10, max_steps=10, lr=0.7, gamma=0.99):\n",
    "#         for episode in tqdm(range(n_training_episodes)):\n",
    "#             # self.train_policy.step()\n",
    "#             state, info = env.reset()\n",
    "#             for step in range(max_steps):\n",
    "\n",
    "#                 action = self.train_policy(self.Qtable, state)\n",
    "#                 new_state, reward, terminated, truncated, info = self.env.step(action)\n",
    "\n",
    "#                 done = terminated or truncated # if we dont want to use next ep.\n",
    "\n",
    "#                 td_error = reward + gamma * np.max(self.Qtable[new_state]) - self.Qtable[state][action]\n",
    "#                 self.Qtable[state][action] = self.Qtable[state][action] + \\\n",
    "#                 lr * td_error\n",
    "\n",
    "#                 # If terminated or truncated finish the episode\n",
    "#                 if terminated or truncated:\n",
    "#                     break\n",
    "\n",
    "                \n",
    "#                 # Our next state is the new state\n",
    "#                 state = new_state \n",
    "#         return self.Qtable\n"
   ]
  },
  {
   "cell_type": "markdown",
   "metadata": {},
   "source": [
    "### Double Q-learning algorithm"
   ]
  },
  {
   "cell_type": "code",
   "execution_count": 9,
   "metadata": {},
   "outputs": [],
   "source": [
    "# class DoubleQlearning:\n",
    "#     def __init__(self, env, train_policy):\n",
    "#         self.env = env\n",
    "#         self.nS = env.observation_space.n\n",
    "#         self.nA = env.action_space.n\n",
    "#         self.Qtable = initialize_q_table(self.nS, self.nA)\n",
    "#         self.train_policy = train_policy\n",
    "\n",
    "#     def train(self, n_training_episodes=10, max_steps=10, lr=0.7, gamma=0.99):\n",
    "#         Q1 = np.zeros_like(self.Qtable)\n",
    "#         Q2 = np.zeros_like(self.Qtable)\n",
    "        \n",
    "#         for episode in tqdm(range(n_training_episodes)):\n",
    "#             # self.train_policy.step()\n",
    "#             state, info = env.reset()\n",
    "#             for step in range(max_steps):\n",
    "\n",
    "#                 action = self.train_policy((Q1 + Q2) / 2.0, state)\n",
    "#                 new_state, reward, terminated, truncated, info = self.env.step(action)\n",
    "\n",
    "#                 done = terminated or truncated # if we dont want to use next ep.\n",
    "\n",
    "#                 if np.random.randint(2):\n",
    "                \n",
    "#                     argmax = np.argmax(Q1[state][:])\n",
    "#                     td_error = reward + gamma * Q2[new_state][argmax] - Q1[state][action]\n",
    "#                     Q1[state][action] = Q1[state][action] + \\\n",
    "#                     learning_rate * td_error\n",
    "                \n",
    "#                 else:\n",
    "#                     argmax = np.argmax(Q2[state][:])\n",
    "#                     td_error = reward + gamma * Q1[new_state][argmax] - Q2[state][action]\n",
    "#                     Q2[state][action] = Q2[state][action] + \\\n",
    "#                     learning_rate * td_error\n",
    "\n",
    "#                 # If terminated or truncated finish the episode\n",
    "#                 if terminated or truncated:\n",
    "#                     break\n",
    "\n",
    "#                 # Our next state is the new state\n",
    "#                 state = new_state\n",
    "\n",
    "#         self.Qtable = (Q1 + Q2) / 2.0\n",
    "#         return self.Qtable\n",
    "    "
   ]
  },
  {
   "cell_type": "markdown",
   "metadata": {},
   "source": [
    "### Dyna-Q"
   ]
  },
  {
   "cell_type": "code",
   "execution_count": 10,
   "metadata": {},
   "outputs": [],
   "source": [
    "# class DynaQ:\n",
    "#     def __init__(self, n_state, n_action, train_policy):\n",
    "#         self.env = env\n",
    "#         self.nS = self.env.observation_space.n\n",
    "#         self.nA = self.env.action_space.n\n",
    "\n",
    "#         self.Qtable = initialize_q_table(self.nS, self.nA)\n",
    "#         self.train_policy = train_policy\n",
    "\n",
    "#     def train(self, env, n_training_episodes=10, max_steps=10, lr=0.7, gamma=0.99):\n",
    "        \n",
    "#         T_count = np.zeros((self.nS, self.nA, self.nS), dtype=np.int)\n",
    "#         R_model = np.zeros((self.nS, self.nA, self.nS), dtype=np.float64)\n",
    "\n",
    "#         for e in tqdm(n_training_episodes):\n",
    "\n",
    "#             state, info = env.reset()\n",
    "\n",
    "#             for step in range(max_steps):\n",
    "                \n",
    "#                 # If terminated or truncated finish the episode\n",
    "#                 if done:\n",
    "#                     break\n",
    "\n",
    "#                 action = self.train_policy(self.Qtable, state)\n",
    "#                 new_state, reward, terminated, truncated, info = env.step(action)\n",
    "\n",
    "#                 done = terminated or truncated # if we dont want to use next ep.\n",
    "\n",
    "#                 T_count[state, action, new_state] += 1\n",
    "#                 r_diff = reward - R_model[state, action, new_state]\n",
    "#                 R_model[state, action, new_state] += (r_diff / T_count[state, action, new_state])\n",
    "\n",
    "                \n",
    "#                 td_error = reward + gamma * np.max(self.Qtable[new_state]) * (not done) - self.Qtable[state][action]\n",
    "#                 self.Qtable[state][action] = self.Qtable[state][action] + \\\n",
    "#                 learning_rate * td_error\n",
    "\n",
    "#                 # Our next state is the new state\n",
    "#                 state = new_state"
   ]
  },
  {
   "cell_type": "markdown",
   "metadata": {},
   "source": [
    "### Learning "
   ]
  },
  {
   "cell_type": "markdown",
   "metadata": {},
   "source": [
    "<h5> Learning parameters"
   ]
  },
  {
   "cell_type": "code",
   "execution_count": 3,
   "metadata": {},
   "outputs": [],
   "source": [
    "# Training parameters\n",
    "n_training_episodes = 30000  # Total training episodes\n",
    "learning_rate = 0.7          # Learning rate\n",
    "\n",
    "# Evaluation parameters\n",
    "n_eval_episodes = 1000        # Total number of test episodes\n",
    "\n",
    "# Environment parameters\n",
    "env_id = \"FrozenLake-v1\"     # Name of the environment\n",
    "max_steps = 99               # Max steps per episode\n",
    "gamma = 0.95                 # Discounting rate\n",
    "eval_seed = []               # The evaluation seed of the environment\n",
    "\n",
    "# Exploration parameters\n",
    "max_epsilon = 1.0             # Exploration probability at start\n",
    "min_epsilon = 0.05            # Minimum exploration probability\n",
    "decay_rate = 0.0005            # Exponential decay rate for exploration prob"
   ]
  },
  {
   "cell_type": "code",
   "execution_count": 4,
   "metadata": {},
   "outputs": [
    {
     "data": {
      "application/vnd.jupyter.widget-view+json": {
       "model_id": "625d1ffa52fd4176ba887b8948d87f21",
       "version_major": 2,
       "version_minor": 0
      },
      "text/plain": [
       "  0%|          | 0/30000 [00:00<?, ?it/s]"
      ]
     },
     "metadata": {},
     "output_type": "display_data"
    }
   ],
   "source": [
    "policy = SoftmaxPolicy()\n",
    "qlearning = DoubleQlearning(env, policy)\n",
    "Q_frozenlake = qlearning.train(n_training_episodes, max_steps, learning_rate, gamma)"
   ]
  },
  {
   "cell_type": "code",
   "execution_count": 5,
   "metadata": {},
   "outputs": [
    {
     "data": {
      "text/plain": [
       "array([[2.14313937e-03, 1.14521880e-03, 4.97506484e-03, 1.59943686e-03],\n",
       "       [4.89849169e-03, 7.10473108e-03, 2.87439902e-03, 8.08939346e-03],\n",
       "       [1.35333665e-02, 1.38516186e-02, 2.52904783e-02, 1.99679533e-02],\n",
       "       [1.66371108e-02, 1.61953823e-03, 2.53628583e-03, 1.31565580e-02],\n",
       "       [5.13494125e-02, 2.72283755e-03, 2.45282946e-03, 9.26799514e-04],\n",
       "       [0.00000000e+00, 0.00000000e+00, 0.00000000e+00, 0.00000000e+00],\n",
       "       [1.48687359e-03, 1.43527816e-02, 1.07749095e-01, 1.76172022e-04],\n",
       "       [0.00000000e+00, 0.00000000e+00, 0.00000000e+00, 0.00000000e+00],\n",
       "       [1.66324298e-03, 8.77174546e-02, 2.63618564e-03, 1.44721511e-01],\n",
       "       [7.70830344e-02, 1.97412049e-01, 6.88534443e-02, 9.13493595e-02],\n",
       "       [8.03899388e-02, 2.43185458e-01, 4.49521180e-02, 1.67535930e-02],\n",
       "       [0.00000000e+00, 0.00000000e+00, 0.00000000e+00, 0.00000000e+00],\n",
       "       [0.00000000e+00, 0.00000000e+00, 0.00000000e+00, 0.00000000e+00],\n",
       "       [6.35612718e-02, 1.96050936e-01, 3.65876053e-01, 4.25630674e-01],\n",
       "       [2.65452572e-01, 7.67395697e-01, 6.01425257e-01, 4.99722380e-01],\n",
       "       [0.00000000e+00, 0.00000000e+00, 0.00000000e+00, 0.00000000e+00]])"
      ]
     },
     "execution_count": 5,
     "metadata": {},
     "output_type": "execute_result"
    }
   ],
   "source": [
    "Q_frozenlake"
   ]
  },
  {
   "cell_type": "code",
   "execution_count": 6,
   "metadata": {},
   "outputs": [],
   "source": [
    "def evaluate_agent(env, max_steps, n_eval_episodes, Q, seed):\n",
    "  \"\"\"\n",
    "  Evaluate the agent for ``n_eval_episodes`` episodes and returns average reward and std of reward.\n",
    "  :param env: The evaluation environment\n",
    "  :param max_steps: Maximum number of steps per episode\n",
    "  :param n_eval_episodes: Number of episode to evaluate the agent\n",
    "  :param Q: The Q-table\n",
    "  :param seed: The evaluation seed array (for taxi-v3)\n",
    "  \"\"\"\n",
    "  episode_rewards = []\n",
    "  for episode in tqdm(range(n_eval_episodes)):\n",
    "    if seed:\n",
    "      state, info = env.reset(seed=seed[episode])\n",
    "    else:\n",
    "      state, info = env.reset()\n",
    "    step = 0\n",
    "    truncated = False\n",
    "    terminated = False\n",
    "    total_rewards_ep = 0\n",
    "\n",
    "    for step in range(max_steps):\n",
    "      # Take the action (index) that have the maximum expected future reward given that state\n",
    "      action = np.argmax(Q[state][:])\n",
    "      new_state, reward, terminated, truncated, info = env.step(action)\n",
    "      total_rewards_ep += reward\n",
    "\n",
    "      if terminated or truncated:\n",
    "        break\n",
    "      state = new_state\n",
    "    episode_rewards.append(total_rewards_ep)\n",
    "  mean_reward = np.mean(episode_rewards)\n",
    "  std_reward = np.std(episode_rewards)\n",
    "\n",
    "  return mean_reward, std_reward"
   ]
  },
  {
   "cell_type": "code",
   "execution_count": 7,
   "metadata": {},
   "outputs": [
    {
     "data": {
      "application/vnd.jupyter.widget-view+json": {
       "model_id": "b448d534f84642268d2c6de70a53c0e9",
       "version_major": 2,
       "version_minor": 0
      },
      "text/plain": [
       "  0%|          | 0/1000 [00:00<?, ?it/s]"
      ]
     },
     "metadata": {},
     "output_type": "display_data"
    },
    {
     "name": "stdout",
     "output_type": "stream",
     "text": [
      "Mean_reward=0.16 +/- 0.37\n"
     ]
    }
   ],
   "source": [
    "# Evaluate our Agent\n",
    "mean_reward, std_reward = evaluate_agent(env, max_steps, n_eval_episodes, Q_frozenlake, eval_seed)\n",
    "print(f\"Mean_reward={mean_reward:.2f} +/- {std_reward:.2f}\")"
   ]
  },
  {
   "cell_type": "code",
   "execution_count": 207,
   "metadata": {},
   "outputs": [],
   "source": [
    "def record_video(env, Qtable, out_directory, fps=1):\n",
    "  \"\"\"\n",
    "  Generate a replay video of the agent\n",
    "  :param env\n",
    "  :param Qtable: Qtable of our agent\n",
    "  :param out_directory\n",
    "  :param fps: how many frame per seconds (with taxi-v3 and frozenlake-v1 we use 1)\n",
    "  \"\"\"\n",
    "  images = []\n",
    "  terminated = False\n",
    "  truncated = False\n",
    "  state, info = env.reset(seed=random.randint(0,500))\n",
    "  img = env.render()\n",
    "  images.append(img)\n",
    "  while not terminated or truncated:\n",
    "    # Take the action (index) that have the maximum expected future reward given that state\n",
    "    action = np.argmax(Qtable[state][:])\n",
    "    state, reward, terminated, truncated, info = env.step(action) # We directly put next_state = state for recording logic\n",
    "    img = env.render()\n",
    "    images.append(img)\n",
    "  imageio.mimsave(out_directory, [np.array(img) for i, img in enumerate(images)], fps=fps)"
   ]
  },
  {
   "cell_type": "code",
   "execution_count": 208,
   "metadata": {},
   "outputs": [
    {
     "ename": "",
     "evalue": "",
     "output_type": "error",
     "traceback": [
      "\u001b[1;31mThe Kernel crashed while executing code in the current cell or a previous cell. \n",
      "\u001b[1;31mPlease review the code in the cell(s) to identify a possible cause of the failure. \n",
      "\u001b[1;31mClick <a href='https://aka.ms/vscodeJupyterKernelCrash'>here</a> for more info. \n",
      "\u001b[1;31mView Jupyter <a href='command:jupyter.viewOutput'>log</a> for further details."
     ]
    }
   ],
   "source": [
    "record_video(env, Qtable_frozenlake, 'record.mp4')"
   ]
  },
  {
   "cell_type": "code",
   "execution_count": null,
   "metadata": {},
   "outputs": [],
   "source": []
  }
 ],
 "metadata": {
  "kernelspec": {
   "display_name": "robotq-Irk9Y6EW-py3.12",
   "language": "python",
   "name": "python3"
  },
  "language_info": {
   "codemirror_mode": {
    "name": "ipython",
    "version": 3
   },
   "file_extension": ".py",
   "mimetype": "text/x-python",
   "name": "python",
   "nbconvert_exporter": "python",
   "pygments_lexer": "ipython3",
   "version": "3.12.3"
  }
 },
 "nbformat": 4,
 "nbformat_minor": 2
}
