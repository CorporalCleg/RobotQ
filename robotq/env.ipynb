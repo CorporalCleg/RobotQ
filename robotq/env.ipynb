{
 "cells": [
  {
   "cell_type": "code",
   "metadata": {
    "ExecuteTime": {
     "end_time": "2024-12-21T15:20:12.903309Z",
     "start_time": "2024-12-21T15:20:12.271132Z"
    }
   },
   "source": [
    "import gymnasium as gym\n",
    "from gymnasium import spaces\n",
    "from typing import Optional\n",
    "import numpy as np\n",
    "import cv2\n",
    "from scipy import signal\n",
    "import random\n",
    "\n",
    "import imageio\n",
    "import matplotlib.pyplot as plt\n",
    "from tqdm.notebook import tqdm\n",
    "\n",
    "import implementation\n",
    "from importlib import reload\n",
    "reload(implementation)\n",
    "from implementation import SoftmaxPolicy, Qlearning, DynaQ, UCBPolicy, ThompsonSamplingPolicy\n",
    "from utils import evaluate_agent, record_video\n",
    "import environment \n",
    "reload(environment)\n",
    "from environment import OurAwesomeEnv\n"
   ],
   "outputs": [],
   "execution_count": 76
  },
  {
   "cell_type": "code",
   "metadata": {
    "ExecuteTime": {
     "end_time": "2024-12-21T15:20:13.477266Z",
     "start_time": "2024-12-21T15:20:13.374911Z"
    }
   },
   "source": [
    "env = OurAwesomeEnv()\n",
    "# env = gym.make(\"FrozenLake-v1\", map_name=\"4x4\", is_slippery=True, render_mode=\"rgb_array\")\n",
    "# observation, info = env.reset(seed=42)\n",
    "env.state = (25, 22, 2)\n",
    "plt.imshow(env.render())"
   ],
   "outputs": [
    {
     "ename": "ValueError",
     "evalue": "operands could not be broadcast together with shapes (0,1) (7,7) (0,1) ",
     "output_type": "error",
     "traceback": [
      "\u001B[0;31m---------------------------------------------------------------------------\u001B[0m",
      "\u001B[0;31mValueError\u001B[0m                                Traceback (most recent call last)",
      "Cell \u001B[0;32mIn[77], line 5\u001B[0m\n\u001B[1;32m      2\u001B[0m \u001B[38;5;66;03m# env = gym.make(\"FrozenLake-v1\", map_name=\"4x4\", is_slippery=True, render_mode=\"rgb_array\")\u001B[39;00m\n\u001B[1;32m      3\u001B[0m \u001B[38;5;66;03m# observation, info = env.reset(seed=42)\u001B[39;00m\n\u001B[1;32m      4\u001B[0m env\u001B[38;5;241m.\u001B[39mstate \u001B[38;5;241m=\u001B[39m (\u001B[38;5;241m25\u001B[39m, \u001B[38;5;241m22\u001B[39m, \u001B[38;5;241m2\u001B[39m)\n\u001B[0;32m----> 5\u001B[0m plt\u001B[38;5;241m.\u001B[39mimshow(\u001B[43menv\u001B[49m\u001B[38;5;241;43m.\u001B[39;49m\u001B[43mrender\u001B[49m\u001B[43m(\u001B[49m\u001B[43m)\u001B[49m)\n",
      "File \u001B[0;32m~/Downloads/RobotQ/robotq/environment.py:169\u001B[0m, in \u001B[0;36mOurAwesomeEnv.render\u001B[0;34m(self)\u001B[0m\n\u001B[1;32m    167\u001B[0m dim_x \u001B[38;5;241m=\u001B[39m \u001B[38;5;28mint\u001B[39m((dims[\u001B[38;5;241m1\u001B[39m] \u001B[38;5;241m-\u001B[39m \u001B[38;5;241m1\u001B[39m) \u001B[38;5;241m/\u001B[39m \u001B[38;5;241m2\u001B[39m)\n\u001B[1;32m    168\u001B[0m merged_img \u001B[38;5;241m=\u001B[39m np\u001B[38;5;241m.\u001B[39mcopy(\u001B[38;5;28mself\u001B[39m\u001B[38;5;241m.\u001B[39mg_map)\n\u001B[0;32m--> 169\u001B[0m \u001B[43mmerged_img\u001B[49m\u001B[43m[\u001B[49m\u001B[43my\u001B[49m\u001B[43m \u001B[49m\u001B[38;5;241;43m-\u001B[39;49m\u001B[43m \u001B[49m\u001B[43mdim_y\u001B[49m\u001B[43m:\u001B[49m\u001B[43my\u001B[49m\u001B[43m \u001B[49m\u001B[38;5;241;43m+\u001B[39;49m\u001B[43m \u001B[49m\u001B[43mdim_y\u001B[49m\u001B[43m \u001B[49m\u001B[38;5;241;43m+\u001B[39;49m\u001B[43m \u001B[49m\u001B[38;5;241;43m1\u001B[39;49m\u001B[43m,\u001B[49m\u001B[43m \u001B[49m\u001B[43mx\u001B[49m\u001B[43m \u001B[49m\u001B[38;5;241;43m-\u001B[39;49m\u001B[43m \u001B[49m\u001B[43mdim_x\u001B[49m\u001B[43m:\u001B[49m\u001B[43mx\u001B[49m\u001B[43m \u001B[49m\u001B[38;5;241;43m+\u001B[39;49m\u001B[43m \u001B[49m\u001B[43mdim_x\u001B[49m\u001B[43m \u001B[49m\u001B[38;5;241;43m+\u001B[39;49m\u001B[43m \u001B[49m\u001B[38;5;241;43m1\u001B[39;49m\u001B[43m]\u001B[49m\u001B[43m \u001B[49m\u001B[38;5;241;43m+\u001B[39;49m\u001B[38;5;241;43m=\u001B[39;49m\u001B[43m \u001B[49m\u001B[38;5;28;43mself\u001B[39;49m\u001B[38;5;241;43m.\u001B[39;49m\u001B[43magent_image\u001B[49m\u001B[43m[\u001B[49m\u001B[43mangle\u001B[49m\u001B[43m,\u001B[49m\u001B[43m \u001B[49m\u001B[43m:\u001B[49m\u001B[43m,\u001B[49m\u001B[43m \u001B[49m\u001B[43m:\u001B[49m\u001B[43m]\u001B[49m\u001B[43m \u001B[49m\u001B[38;5;241;43m*\u001B[39;49m\u001B[43m \u001B[49m\u001B[38;5;241;43m0.5\u001B[39;49m\n\u001B[1;32m    170\u001B[0m \u001B[38;5;28;01mreturn\u001B[39;00m cv2\u001B[38;5;241m.\u001B[39mresize(((merged_img \u001B[38;5;241m>\u001B[39m \u001B[38;5;241m0\u001B[39m) \u001B[38;5;241m*\u001B[39m \u001B[38;5;241m255.0\u001B[39m)\u001B[38;5;241m.\u001B[39mastype(np\u001B[38;5;241m.\u001B[39muint8), (\u001B[38;5;241m400\u001B[39m, \u001B[38;5;241m400\u001B[39m), cv2\u001B[38;5;241m.\u001B[39mINTER_LINEAR)\n",
      "\u001B[0;31mValueError\u001B[0m: operands could not be broadcast together with shapes (0,1) (7,7) (0,1) "
     ]
    }
   ],
   "execution_count": 77
  },
  {
   "metadata": {
    "ExecuteTime": {
     "end_time": "2024-12-21T12:13:27.199926Z",
     "start_time": "2024-12-21T12:13:27.195959Z"
    }
   },
   "cell_type": "code",
   "source": [
    "y, x, angle = env.state\n",
    "\n",
    "dims = env.agent_image[0, :, :].shape\n",
    "dim_y = int((dims[0] - 1) / 2)\n",
    "dim_x = int((dims[1] - 1) / 2)\n",
    "merged_img = np.zeros((env.g_map.shape[0], env.g_map.shape[1], 3))\n",
    "merged_img[:, :, 0] = np.copy(env.g_map)\n",
    "merged_img[y - dim_y:y + dim_y + 1, x - dim_x:x + dim_x + 1, 1] += env.agent_image[angle, :, :] * 0.5"
   ],
   "outputs": [],
   "execution_count": 59
  },
  {
   "metadata": {
    "ExecuteTime": {
     "end_time": "2024-12-21T12:19:05.608125Z",
     "start_time": "2024-12-21T12:19:05.489594Z"
    }
   },
   "cell_type": "code",
   "source": [
    "plt.imshow(env.g_map)\n",
    "plt.axis('off')\n",
    "plt.show()"
   ],
   "outputs": [
    {
     "data": {
      "text/plain": [
       "<Figure size 640x480 with 1 Axes>"
      ],
      "image/png": "[encoded data removed]"
     },
     "metadata": {},
     "output_type": "display_data"
    }
   ],
   "execution_count": 61
  },
  {
   "metadata": {},
   "cell_type": "code",
   "outputs": [],
   "execution_count": null,
   "source": ""
  },
  {
   "metadata": {
    "ExecuteTime": {
     "end_time": "2024-12-21T12:01:19.894424Z",
     "start_time": "2024-12-21T12:01:19.887896Z"
    }
   },
   "cell_type": "code",
   "source": "",
   "outputs": [
    {
     "data": {
      "text/plain": [
       "array([[0, 0, 0, ..., 0, 0, 0],\n",
       "       [0, 0, 0, ..., 0, 0, 0],\n",
       "       [0, 0, 0, ..., 0, 0, 0],\n",
       "       ...,\n",
       "       [0, 0, 0, ..., 0, 0, 0],\n",
       "       [0, 0, 0, ..., 0, 0, 0],\n",
       "       [0, 0, 0, ..., 0, 0, 0]], shape=(400, 400), dtype=uint8)"
      ]
     },
     "execution_count": 33,
     "metadata": {},
     "output_type": "execute_result"
    }
   ],
   "execution_count": 33
  },
  {
   "metadata": {},
   "cell_type": "code",
   "outputs": [],
   "execution_count": null,
   "source": ""
  },
  {
   "metadata": {},
   "cell_type": "code",
   "outputs": [],
   "execution_count": null,
   "source": ""
  },
  {
   "metadata": {
    "ExecuteTime": {
     "end_time": "2024-12-21T11:53:15.604253Z",
     "start_time": "2024-12-21T11:53:15.546364Z"
    }
   },
   "cell_type": "code",
   "source": [
    "plt.imshow(env.collission_map[2])\n",
    "plt.axis(\"off\")\n",
    "plt.savefig(\"C_MAP\")\n",
    "plt.show()"
   ],
   "outputs": [
    {
     "data": {
      "text/plain": [
       "<Figure size 640x480 with 1 Axes>"
      ],
      "image/png": "[encoded data removed]"
     },
     "metadata": {},
     "output_type": "display_data"
    }
   ],
   "execution_count": 14
  },
  {
   "cell_type": "code",
   "metadata": {
    "ExecuteTime": {
     "end_time": "2024-12-20T14:09:49.379765Z",
     "start_time": "2024-12-20T14:09:49.374806Z"
    }
   },
   "source": [
    "# Training parameters\n",
    "n_training_episodes = 3000 # Total training episodes\n",
    "learning_rate = 0.7          # Learning rate\n",
    "\n",
    "# Evaluation parameters\n",
    "n_eval_episodes = 100       # Total number of test episodes\n",
    "\n",
    "# Environment parameters\n",
    "env_id = \"FrozenLake-v1\"     # Name of the environment\n",
    "max_steps = 99               # Max steps per episode\n",
    "gamma = 0.99                 # Discounting rate\n",
    "eval_seed = []               # The evaluation seed of the environment\n",
    "\n",
    "# Exploration parameters\n",
    "max_epsilon = 1.0             # Exploration probability at start\n",
    "min_epsilon = 0.05            # Minimum exploration probability\n",
    "decay_rate = 0.0005            # Exponential decay rate for exploration prob"
   ],
   "outputs": [],
   "execution_count": 4
  },
  {
   "cell_type": "code",
   "metadata": {
    "ExecuteTime": {
     "end_time": "2024-12-20T14:12:32.976941Z",
     "start_time": "2024-12-20T14:10:05.904882Z"
    }
   },
   "source": [
    "policy = ThompsonSamplingPolicy()\n",
    "qlearning = Qlearning(env, policy)\n",
    "Q_table, mean_reward_per_episode = qlearning.train(2*10*n_training_episodes, max_steps, learning_rate, gamma)"
   ],
   "outputs": [
    {
     "data": {
      "text/plain": [
       "  0%|          | 0/60000 [00:00<?, ?it/s]"
      ],
      "application/vnd.jupyter.widget-view+json": {
       "version_major": 2,
       "version_minor": 0,
       "model_id": "e4b1ce4f21e6450cbe8c2c21d95b6304"
      }
     },
     "metadata": {},
     "output_type": "display_data"
    }
   ],
   "execution_count": 6
  },
  {
   "cell_type": "code",
   "metadata": {
    "ExecuteTime": {
     "end_time": "2024-12-20T14:08:50.237598Z",
     "start_time": "2024-12-20T14:08:50.036311Z"
    }
   },
   "source": [
    "# Evaluate our Agent\n",
    "mean_reward, std_reward = evaluate_agent(env, max_steps, n_eval_episodes, Q_table, eval_seed)\n",
    "print(f\"Mean_reward={mean_reward:.2f} +/- {std_reward:.2f}\")"
   ],
   "outputs": [
    {
     "data": {
      "text/plain": [
       "  0%|          | 0/100 [00:00<?, ?it/s]"
      ],
      "application/vnd.jupyter.widget-view+json": {
       "version_major": 2,
       "version_minor": 0,
       "model_id": "190f046db2c547d1b6b3fae41e94e79e"
      }
     },
     "metadata": {},
     "output_type": "display_data"
    },
    {
     "name": "stdout",
     "output_type": "stream",
     "text": [
      "Mean_reward=-0.94 +/- 0.24\n"
     ]
    }
   ],
   "execution_count": 7
  },
  {
   "cell_type": "code",
   "metadata": {
    "ExecuteTime": {
     "end_time": "2024-12-20T14:33:17.566874Z",
     "start_time": "2024-12-20T14:33:09.341561Z"
    }
   },
   "source": "record_video(env, Q_table, 'Q-learning-Thompson.mp4', fps=3)",
   "outputs": [],
   "execution_count": 24
  },
  {
   "metadata": {
    "ExecuteTime": {
     "end_time": "2024-12-20T14:28:50.740325Z",
     "start_time": "2024-12-20T14:28:50.731034Z"
    }
   },
   "cell_type": "code",
   "source": "from scipy.signal import convolve",
   "outputs": [],
   "execution_count": 10
  },
  {
   "cell_type": "code",
   "metadata": {
    "ExecuteTime": {
     "end_time": "2024-12-20T14:08:52.860965Z",
     "start_time": "2024-12-20T14:08:52.856566Z"
    }
   },
   "source": "len(mean_reward_per_episode)",
   "outputs": [
    {
     "data": {
      "text/plain": [
       "6000"
      ]
     },
     "execution_count": 8,
     "metadata": {},
     "output_type": "execute_result"
    }
   ],
   "execution_count": 8
  },
  {
   "metadata": {
    "ExecuteTime": {
     "end_time": "2024-12-20T14:27:39.840057Z",
     "start_time": "2024-12-20T14:27:39.819788Z"
    }
   },
   "cell_type": "code",
   "source": "np_mean = np.array(mean_reward_per_episode)",
   "outputs": [],
   "execution_count": 7
  },
  {
   "metadata": {
    "ExecuteTime": {
     "end_time": "2024-12-20T14:28:04.412537Z",
     "start_time": "2024-12-20T14:28:04.253807Z"
    }
   },
   "cell_type": "code",
   "source": "plt.plot(np_mean)",
   "outputs": [
    {
     "data": {
      "text/plain": [
       "[<matplotlib.lines.Line2D at 0x126133d70>]"
      ]
     },
     "execution_count": 9,
     "metadata": {},
     "output_type": "execute_result"
    },
    {
     "data": {
      "text/plain": [
       "<Figure size 640x480 with 1 Axes>"
      ],
      "image/png": "[encoded data removed]"
     },
     "metadata": {},
     "output_type": "display_data"
    }
   ],
   "execution_count": 9
  },
  {
   "metadata": {
    "ExecuteTime": {
     "end_time": "2024-12-20T14:30:12.217793Z",
     "start_time": "2024-12-20T14:30:12.196986Z"
    }
   },
   "cell_type": "code",
   "source": [
    "kernel = np.ones((1000))/1000\n",
    "convolved = convolve(np_mean, kernel, mode=\"same\")"
   ],
   "outputs": [],
   "execution_count": 19
  },
  {
   "metadata": {
    "ExecuteTime": {
     "end_time": "2024-12-20T14:30:51.193860Z",
     "start_time": "2024-12-20T14:30:51.013868Z"
    }
   },
   "cell_type": "code",
   "source": [
    "plt.plot(convolved)\n",
    "plt.title(\"mean reward for Thompson sampling\")\n",
    "plt.grid()\n",
    "plt.savefig(\"mean_reward\")"
   ],
   "outputs": [
    {
     "data": {
      "text/plain": [
       "<Figure size 640x480 with 1 Axes>"
      ],
      "image/png": "[encoded data removed]"
     },
     "metadata": {},
     "output_type": "display_data"
    }
   ],
   "execution_count": 23
  },
  {
   "metadata": {
    "ExecuteTime": {
     "end_time": "2024-12-20T14:29:57.394371Z",
     "start_time": "2024-12-20T14:29:57.392767Z"
    }
   },
   "cell_type": "code",
   "source": "",
   "outputs": [],
   "execution_count": 16
  },
  {
   "metadata": {
    "jupyter": {
     "is_executing": true
    }
   },
   "cell_type": "code",
   "source": "",
   "outputs": [],
   "execution_count": null
  },
  {
   "metadata": {
    "jupyter": {
     "is_executing": true
    }
   },
   "cell_type": "code",
   "source": "",
   "outputs": [],
   "execution_count": null
  },
  {
   "metadata": {
    "jupyter": {
     "is_executing": true
    }
   },
   "cell_type": "code",
   "source": "",
   "outputs": [],
   "execution_count": null
  },
  {
   "metadata": {
    "jupyter": {
     "is_executing": true
    }
   },
   "cell_type": "code",
   "source": "",
   "outputs": [],
   "execution_count": null
  },
  {
   "metadata": {
    "jupyter": {
     "is_executing": true
    }
   },
   "cell_type": "code",
   "source": "",
   "outputs": [],
   "execution_count": null
  },
  {
   "metadata": {
    "jupyter": {
     "is_executing": true
    }
   },
   "cell_type": "code",
   "source": "",
   "outputs": [],
   "execution_count": null
  },
  {
   "metadata": {},
   "cell_type": "code",
   "outputs": [],
   "execution_count": null,
   "source": ""
  }
 ],
 "metadata": {
  "kernelspec": {
   "display_name": "robotq-Irk9Y6EW-py3.12",
   "language": "python",
   "name": "python3"
  },
  "language_info": {
   "codemirror_mode": {
    "name": "ipython",
    "version": 3
   },
   "file_extension": ".py",
   "mimetype": "text/x-python",
   "name": "python",
   "nbconvert_exporter": "python",
   "pygments_lexer": "ipython3",
   "version": "3.12.3"
  }
 },
 "nbformat": 4,
 "nbformat_minor": 2
}
